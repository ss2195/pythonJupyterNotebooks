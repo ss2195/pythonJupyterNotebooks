{
 "cells": [
  {
   "cell_type": "markdown",
   "metadata": {},
   "source": [
    "# Corey Schafer Lectures on classes and instances"
   ]
  },
  {
   "cell_type": "code",
   "execution_count": 43,
   "metadata": {},
   "outputs": [
    {
     "name": "stdout",
     "output_type": "stream",
     "text": [
      "Shubham.Shourya@company.com\n"
     ]
    },
    {
     "data": {
      "text/plain": [
       "'Test user: 9'"
      ]
     },
     "execution_count": 43,
     "metadata": {},
     "output_type": "execute_result"
    }
   ],
   "source": [
    "class Employee:\n",
    "    def __init__(self,first,last,pay):\n",
    "        self.first = first\n",
    "        self.last = last\n",
    "        self.pay = pay\n",
    "        self.email = first+'.'+last+\"@company.com\"\n",
    "        \n",
    "    def countOfLetter(func):\n",
    "        def wrapper(self):\n",
    "            return func(self)+\": {}\".format(len(func(self)))\n",
    "        return wrapper\n",
    "    \n",
    "    @countOfLetter\n",
    "    def getFullName(self):\n",
    "        return \"{} {}\".format(self.first,self.last)\n",
    "    pass\n",
    "\n",
    "\n",
    "        \n",
    "emp1 = Employee(\"Shubham\",\"Shourya\",12344)\n",
    "emp2 = Employee(\"Test\",\"user\",1423423)\n",
    "print(emp1.email)\n",
    "emp1.getFullName()\n",
    "\n",
    "##  Accessing methods from ClassName but we need to pass the instance\n",
    "Employee.getFullName(emp2)"
   ]
  },
  {
   "cell_type": "markdown",
   "metadata": {},
   "source": [
    "##  Class Variables : \n",
    "###  Variables shared among all instances of a class"
   ]
  },
  {
   "cell_type": "code",
   "execution_count": 69,
   "metadata": {},
   "outputs": [
    {
     "name": "stdout",
     "output_type": "stream",
     "text": [
      "1000\n",
      "1040\n",
      "========================================\n",
      "1.04\n",
      "1.04\n",
      "========================================\n",
      "{'first': 'Shubham', 'last': 'Shourya', 'pay': 1040, 'email': 'Shubham.Shourya@company.com'}\n",
      "{'first': 'Shubham', 'last': 'Shourya', 'pay': 1040, 'email': 'Shubham.Shourya@company.com', 'raise_amount': 1.05}\n",
      "1.04\n",
      "1.05\n",
      "========================================\n",
      "1.05\n",
      "2.0\n",
      "2.0\n",
      "1092\n",
      "2\n"
     ]
    }
   ],
   "source": [
    "class Employee:\n",
    "    \n",
    "    raise_amount = 1.04\n",
    "    numOfEmployee = 0\n",
    "    \n",
    "    def __init__(self,first,last,pay):\n",
    "        self.first = first\n",
    "        self.last = last\n",
    "        self.pay = pay\n",
    "        self.email = first+'.'+last+\"@company.com\"\n",
    "        Employee.numOfEmployee+=1\n",
    "        \n",
    "    def countOfLetter(func):\n",
    "        def wrapper(self):\n",
    "            return func(self)+\": {}\".format(len(func(self)))\n",
    "        return wrapper\n",
    "    \n",
    "    @countOfLetter\n",
    "    def getFullName(self):\n",
    "        return \"{} {}\".format(self.first,self.last)\n",
    "    \n",
    "    \n",
    "    def applyRaise(self):\n",
    "        self.pay = int(self.pay* self.raise_amount) \n",
    "        # We can use self.raise_amount or Employee.raise_amount\n",
    "        # In case of latter we cant change the raise_amount for \n",
    "        # particular instance. If we want to override the value \n",
    "        # of raise_amount for a particular instance then use self.\n",
    "\n",
    "        \n",
    "\n",
    "emp1 = Employee(\"Shubham\",\"Shourya\",1000)\n",
    "emp2 = Employee(\"Test\",\"user\",10000)\n",
    "\n",
    "print(emp1.pay)\n",
    "emp1.applyRaise()\n",
    "print(emp1.pay)\n",
    "print(\"=\"*40)\n",
    "\n",
    "print(emp1.raise_amount)\n",
    "print(Employee.raise_amount)\n",
    "print(\"=\"*40)\n",
    "\n",
    "print(emp1.__dict__)\n",
    "emp1.raise_amount = 1.05\n",
    "print(emp1.__dict__)\n",
    "print(Employee.raise_amount)\n",
    "print(emp1.raise_amount)\n",
    "print(\"=\"*40)\n",
    "\n",
    "Employee.raise_amount = 2.0\n",
    "print(emp1.raise_amount)\n",
    "print(Employee.raise_amount)\n",
    "print(emp2.raise_amount)\n",
    "emp1.applyRaise()\n",
    "print(emp1.pay)\n",
    "\n",
    "print(emp1.numOfEmployee)"
   ]
  },
  {
   "cell_type": "markdown",
   "metadata": {},
   "source": [
    "##  Class methods and static methods"
   ]
  },
  {
   "cell_type": "markdown",
   "metadata": {},
   "source": [
    "### Regular methods have self as first arg, classmethods have cls as first method, static methods have no first arg but they are included in the class"
   ]
  },
  {
   "cell_type": "code",
   "execution_count": 83,
   "metadata": {},
   "outputs": [
    {
     "name": "stdout",
     "output_type": "stream",
     "text": [
      "1.04\n",
      "1.04\n",
      "1.04\n",
      "1.5\n",
      "1.5\n",
      "1.5\n",
      "1.8\n",
      "1.8\n",
      "1.8\n",
      "John.Shourya@company.com\n",
      "False\n"
     ]
    }
   ],
   "source": [
    "import datetime\n",
    "\n",
    "class Employee:\n",
    "    \n",
    "    raise_amount = 1.04\n",
    "    numOfEmployee = 0\n",
    "    \n",
    "    def __init__(self,first,last,pay):\n",
    "        self.first = first\n",
    "        self.last = last\n",
    "        self.pay = pay\n",
    "        self.email = first+'.'+last+\"@company.com\"\n",
    "        Employee.numOfEmployee+=1\n",
    "        \n",
    "    def countOfLetter(func):\n",
    "        def wrapper(self):\n",
    "            return func(self)+\": {}\".format(len(func(self)))\n",
    "        return wrapper\n",
    "    \n",
    "    @countOfLetter\n",
    "    def getFullName(self):\n",
    "        return \"{} {}\".format(self.first,self.last)\n",
    "    \n",
    "    \n",
    "    @classmethod\n",
    "    def setRaiseAmount(cls,amount):\n",
    "        \"\"\"\n",
    "         Use decorator @classmethod to create a class method\n",
    "         Instead of using self(class instance) as the first argument\n",
    "         It takes cls ( class as the first argument)\n",
    "         cls is taken by genral convention\n",
    "        \"\"\"\n",
    "        cls.raise_amount = amount\n",
    "        \n",
    "    @classmethod\n",
    "    def fromString(cls,empString):\n",
    "        first,last,pay = empString.split(\"-\")\n",
    "        return cls(first,last,pay)\n",
    "        \n",
    "    \n",
    "    @staticmethod\n",
    "    def workDay(day):\n",
    "        if day.weekday()==5 or day.weekday()==6:\n",
    "            return False\n",
    "        return True\n",
    "        \n",
    "    \n",
    "    def applyRaise(self):\n",
    "        self.pay = int(self.pay* self.raise_amount) \n",
    "        # We can use self.raise_amount or Employee.raise_amount\n",
    "        # In case of latter we cant change the raise_amount for \n",
    "        # particular instance. If we want to override the value \n",
    "        # of raise_amount for a particular instance then use self.\n",
    "        \n",
    "emp1 = Employee(\"Shubham\",\"Shourya\",1000)\n",
    "emp2 = Employee(\"Test\",\"user\",10000)\n",
    "\n",
    "\n",
    "print(emp1.raise_amount)\n",
    "print(Employee.raise_amount)\n",
    "print(emp2.raise_amount)\n",
    "\n",
    "Employee.setRaiseAmount(1.5)\n",
    "\n",
    "print(emp1.raise_amount)\n",
    "print(Employee.raise_amount)\n",
    "print(emp2.raise_amount)\n",
    "\n",
    "emp1.setRaiseAmount(1.8) ##BUt it doesnt make sense to call classmethods from class Instances\n",
    "\n",
    "print(emp1.raise_amount)\n",
    "print(Employee.raise_amount)\n",
    "print(emp2.raise_amount)\n",
    "\n",
    "### People also say class methods as alternative constructors\n",
    "## Example below\n",
    "\n",
    "emp_str1 = \"John-Shourya-1000\"\n",
    "emp_str3 = \"hailey-User-1000\"\n",
    "\n",
    "new_emp1 = Employee.fromString(emp_str1)\n",
    "print(new_emp1.email)\n",
    "\n",
    "day = datetime.date(2021,1,23)\n",
    "print(emp1.workDay(day))"
   ]
  },
  {
   "cell_type": "markdown",
   "metadata": {},
   "source": [
    "### Inheritance and subclasses"
   ]
  },
  {
   "cell_type": "code",
   "execution_count": 117,
   "metadata": {},
   "outputs": [
    {
     "name": "stdout",
     "output_type": "stream",
     "text": [
      "Corey.Chafer@company.com\n",
      "---> Shubham Shourya: 15\n",
      "---> New User: 8\n",
      "---> EMp Two: 7\n",
      "====================================================================================================\n",
      "---> Shubham Shourya: 15\n",
      "---> EMp Two: 7\n",
      "True\n",
      "False\n",
      "True\n"
     ]
    }
   ],
   "source": [
    "class Employee:\n",
    "    \n",
    "    raise_amount = 1.04\n",
    "    numOfEmployee = 0\n",
    "    \n",
    "    def __init__(self,first,last,pay):\n",
    "        self.first = first\n",
    "        self.last = last\n",
    "        self.pay = pay\n",
    "        self.email = first+'.'+last+\"@company.com\"\n",
    "        Employee.numOfEmployee+=1\n",
    "        \n",
    "    def countOfLetter(func):\n",
    "        def wrapper(self):\n",
    "            return func(self)+\": {}\".format(len(func(self)))\n",
    "        return wrapper\n",
    "    \n",
    "    @countOfLetter\n",
    "    def getFullName(self):\n",
    "        return \"{} {}\".format(self.first,self.last)\n",
    "    \n",
    "    \n",
    "    def applyRaise(self):\n",
    "        self.pay = int(self.pay* self.raise_amount) \n",
    "        # We can use self.raise_amount or Employee.raise_amount\n",
    "        # In case of latter we cant change the raise_amount for \n",
    "        # particular instance. If we want to override the value \n",
    "        # of raise_amount for a particular instance then use self.\n",
    "\n",
    "        \n",
    "class Developer(Employee):\n",
    "    \"\"\"\n",
    "    We could change the raise amount in Developer \n",
    "    class without changing it in the Employee class\n",
    "    \n",
    "    \"\"\"\n",
    "    raise_amount  = 1.1\n",
    "    \n",
    "    def __init__(self,first,last,pay, prog_lang):\n",
    "        super().__init__(first,last,pay)\n",
    "        self.prog_lang = prog_lang\n",
    "\n",
    "\n",
    "class Manager(Employee):\n",
    "    \n",
    "    def __init__(self,first,last,pay,employees=None):\n",
    "        \"\"\"\n",
    "        We should not pass mutable arguments as default arguments to a function\n",
    "        \"\"\"\n",
    "        super().__init__(first,last,pay)\n",
    "        if employees == None:\n",
    "            self.employees = []\n",
    "        else:\n",
    "            self.employees = employees\n",
    "    \n",
    "    \n",
    "    def addEmployee(self,employee):\n",
    "        if employee not in self.employees:\n",
    "            self.employees.append(employee)\n",
    "            \n",
    "    def removeEmployee(self,employee):\n",
    "        if employee in self.employees:\n",
    "            self.employees.remove(employee)\n",
    "        \n",
    "    def printEmployees(self):\n",
    "        for emp in self.employees:\n",
    "            print(\"--->\",emp.getFullName())\n",
    "            \n",
    "        \n",
    "\n",
    "emp1 = Employee(\"New\",\"User\",20000)\n",
    "emp2 = Employee(\"EMp\",\"Two\",20000)\n",
    "dev1 = Developer(\"Shubham\",\"Shourya\",100000,'Python')\n",
    "mgr1 = Manager(\"Corey\",\"Chafer\",100000,[dev1])\n",
    "\n",
    "\n",
    "# print(dev1.email)\n",
    "# print(dev1.prog_lang)\n",
    "print(mgr1.email)\n",
    "\n",
    "#mgr1.printEmployees()\n",
    "mgr1.addEmployee(emp1)\n",
    "mgr1.addEmployee(emp2)\n",
    "mgr1.printEmployees()\n",
    "print(\"=\"*100)\n",
    "mgr1.removeEmployee(emp1)\n",
    "mgr1.printEmployees()\n",
    "#print(help(Developer))\n",
    "\n",
    "# print(dev1.pay)\n",
    "# dev1.applyRaise()\n",
    "# print(dev1.pay)\n",
    "# print(\"=\"*20)\n",
    "\n",
    "# print(mgr1.pay)\n",
    "# mgr1.applyRaise()\n",
    "# print(mgr1.pay)\n",
    "# print(\"=\"*20)\n",
    "\n",
    "# print(emp1.pay)\n",
    "# emp1.applyRaise()\n",
    "# print(emp1.pay)\n",
    "\n",
    "print(isinstance(mgr1,Employee))\n",
    "print(isinstance(mgr1,Developer))\n",
    "\n",
    "print(issubclass(Developer,Employee))"
   ]
  },
  {
   "cell_type": "markdown",
   "metadata": {},
   "source": [
    "###  Dunder methods or magic methods or special methods"
   ]
  },
  {
   "cell_type": "code",
   "execution_count": 140,
   "metadata": {},
   "outputs": [
    {
     "name": "stdout",
     "output_type": "stream",
     "text": [
      "New User: 8 - New.User@company.com\n"
     ]
    },
    {
     "data": {
      "text/plain": [
       "8"
      ]
     },
     "execution_count": 140,
     "metadata": {},
     "output_type": "execute_result"
    }
   ],
   "source": [
    "class Employee:\n",
    "    \n",
    "    raise_amount = 1.04\n",
    "    numOfEmployee = 0\n",
    "    \n",
    "    def __init__(self,first,last,pay):\n",
    "        self.first = first\n",
    "        self.last = last\n",
    "        self.pay = pay\n",
    "        self.email = first+'.'+last+\"@company.com\"\n",
    "        Employee.numOfEmployee+=1\n",
    "        \n",
    "    def countOfLetter(func):\n",
    "        def wrapper(self):\n",
    "            return func(self)+\": {}\".format(len(func(self)))\n",
    "        return wrapper\n",
    "    \n",
    "    @countOfLetter\n",
    "    def getFullName(self):\n",
    "        return \"{} {}\".format(self.first,self.last)\n",
    "    \n",
    "    def __repr__(self):\n",
    "        return \"Employee({},{},{}) \".format(self.first,self.last,self.pay)\n",
    "    \n",
    "    def __str__(self):\n",
    "        return \"{} - {}\".format(self.getFullName(), self.email)\n",
    "    \n",
    "    def __add__(self,other):\n",
    "        \"\"\"\n",
    "        Return sum of pay when we add two emplyess together\n",
    "        \"\"\"\n",
    "        return self.pay+other.pay\n",
    "    \n",
    "    def __len__(self):\n",
    "        return len(self.first+\" \"+self.last)\n",
    "    \n",
    "    \n",
    "emp1 = Employee(\"New\",\"User\",20000)\n",
    "emp2 = Employee(\"Old\",\"User\",10000)\n",
    "print(emp1)\n",
    "\n",
    "emp1+emp2\n",
    "\n",
    "len(emp1)"
   ]
  },
  {
   "cell_type": "code",
   "execution_count": 141,
   "metadata": {},
   "outputs": [
    {
     "data": {
      "text/plain": [
       "'aansj'"
      ]
     },
     "execution_count": 141,
     "metadata": {},
     "output_type": "execute_result"
    }
   ],
   "source": [
    "##  The add operator is implamented in the hood using a dunder method\n",
    "\n",
    "1+2\n",
    "int.__add__(1,2)\n",
    "str.__add__('a','ansj')"
   ]
  },
  {
   "cell_type": "markdown",
   "metadata": {},
   "source": [
    "###  Property Decorators - Getters Setters and Deleters"
   ]
  },
  {
   "cell_type": "code",
   "execution_count": 163,
   "metadata": {},
   "outputs": [
    {
     "name": "stdout",
     "output_type": "stream",
     "text": [
      "Shubham Shourya\n",
      "Shubham.Shourya@company.com\n",
      "Isac newton\n",
      "Isac.newton@company.com\n",
      "Deleter Name\n",
      "None None\n",
      "None.None@company.com\n"
     ]
    }
   ],
   "source": [
    "class Employee:\n",
    "        \n",
    "    def __init__(self,first,last,pay):\n",
    "        self.first = first\n",
    "        self.last = last\n",
    "        self.pay = pay\n",
    "        \n",
    "    @property   \n",
    "    def email(self):\n",
    "        \"\"\"\n",
    "        By using the property decorator we can convert this function\n",
    "        into an attribute. So we can access this as an attribute\n",
    "        \"\"\"\n",
    "        return \"{}.{}@company.com\".format(self.first,self.last)\n",
    "    \n",
    "    @property\n",
    "    def fullName(self):\n",
    "        return \"{} {}\".format(self.first,self.last)\n",
    "    \n",
    "    @fullName.setter\n",
    "    def fullName(self,name):\n",
    "        first,last = name.split(\" \")\n",
    "        self.first,self.last = first,last\n",
    "        \n",
    "        \n",
    "    @fullName.deleter\n",
    "    def fullName(self):\n",
    "        print(\"Deleter Name\")\n",
    "        self.first = None\n",
    "        self.last = None\n",
    "    \n",
    "emp1 = Employee(\"Shubham\",\"Shourya\",20000)\n",
    "emp2 = Employee(\"Old\",\"User\",10000)\n",
    "\n",
    "print(emp1.fullName) ## This is achieved using the @property decorator\n",
    "print(emp1.email)\n",
    "\n",
    "emp1.first = \"Jacob\"\n",
    "\n",
    "emp1.fullName = \"Isac newton\"  ## This is achieved using the @fullName.setter decorator of fullName.\n",
    "\n",
    "print(emp1.fullName)\n",
    "print(emp1.email)\n",
    "\n",
    "del emp1.fullName\n",
    "print(emp1.fullName)\n",
    "print(emp1.email)\n",
    "\n"
   ]
  },
  {
   "cell_type": "code",
   "execution_count": null,
   "metadata": {},
   "outputs": [],
   "source": []
  }
 ],
 "metadata": {
  "kernelspec": {
   "display_name": "Python 3",
   "language": "python",
   "name": "python3"
  },
  "language_info": {
   "codemirror_mode": {
    "name": "ipython",
    "version": 3
   },
   "file_extension": ".py",
   "mimetype": "text/x-python",
   "name": "python",
   "nbconvert_exporter": "python",
   "pygments_lexer": "ipython3",
   "version": "3.7.4"
  }
 },
 "nbformat": 4,
 "nbformat_minor": 2
}
