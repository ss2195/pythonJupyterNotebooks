{
 "cells": [
  {
   "cell_type": "markdown",
   "metadata": {},
   "source": [
    "### Practical Decorators by Reuven M Lerner"
   ]
  },
  {
   "cell_type": "code",
   "execution_count": 1,
   "metadata": {},
   "outputs": [
    {
     "data": {
      "text/plain": [
       "'\\n@mydeco\\ndef ad(a,b):\\n    return a+b \\n'"
      ]
     },
     "execution_count": 1,
     "metadata": {},
     "output_type": "execute_result"
    }
   ],
   "source": [
    "\"\"\"\n",
    "@mydeco\n",
    "def add(a,b):\n",
    "    return a+b \n",
    "\"\"\"\n",
    "# the above code has 3 callables -- > something we can execute\n",
    "# 1st --> add\n",
    "# 2nd is @mydeco\n",
    "# 3rd which is return from mydeco(add)\n"
   ]
  },
  {
   "cell_type": "code",
   "execution_count": 4,
   "metadata": {},
   "outputs": [],
   "source": [
    "## defining a decorator\n",
    "\n",
    "def mydeco(func):\n",
    "    def wrapper(*args, **kwargs):\n",
    "        return \"{} !!!\".format(func(*args, **kwargs))\n",
    "    return wrapper\n",
    "\n",
    "\"\"\" How is it that the internal function has access to func. Func is a local variable in the external \n",
    "    function . This is achieved by Python Scoping Local and Closing Builtin . It first checks for \n",
    "    func in local def but if it is not found then it searches in the external def.\n",
    "\"\"\"\n",
    "        \n",
    "@mydeco\n",
    "def add(a,b):\n",
    "    return a+b \n",
    "\n",
    "@mydeco\n",
    "def square(a):\n",
    "    return a**2"
   ]
  },
  {
   "cell_type": "code",
   "execution_count": 5,
   "metadata": {},
   "outputs": [
    {
     "data": {
      "text/plain": [
       "'16 !!!'"
      ]
     },
     "execution_count": 5,
     "metadata": {},
     "output_type": "execute_result"
    }
   ],
   "source": [
    "add(3,4)\n",
    "square(4)"
   ]
  },
  {
   "cell_type": "markdown",
   "metadata": {},
   "source": [
    "#  \n",
    "\n",
    "### Decorators practical examples :\n",
    "\n",
    "#  \n",
    "\n",
    "### Example 1.\n",
    "###### Timing a function"
   ]
  },
  {
   "cell_type": "code",
   "execution_count": 42,
   "metadata": {},
   "outputs": [],
   "source": [
    "import time\n",
    "def logtime(func):\n",
    "    \n",
    "    def wrapper(*args,**kawrgs):\n",
    "        start = time.time()\n",
    "        rv = func(*args,**kawrgs)\n",
    "        end = time.time()\n",
    "        \n",
    "        total_time = end-start\n",
    "        with open(\"logtime.txt\",\"a+\") as f:\n",
    "            f.write(\"Time taken by function: {} with arguments : {!r} is >>>>> {}\\n\".format(func.__name__,args,total_time))\n",
    "        \n",
    "        return rv\n",
    "    return wrapper\n",
    "\n",
    "@logtime\n",
    "def genIterate(n,m=5):\n",
    "    return [i*i for i in range(n*m)]\n",
    "        \n",
    "\n",
    "\n",
    "rv = genIterate(10000,6)"
   ]
  },
  {
   "cell_type": "markdown",
   "metadata": {},
   "source": [
    "#  "
   ]
  },
  {
   "cell_type": "markdown",
   "metadata": {},
   "source": [
    "###  Example 2\n",
    "##### Once per minute : Raise an exception if we try to run a function once per minute\n",
    "##### This funciton is very expensive in terms of resource hence we dont want it to run more than once in 1 min"
   ]
  },
  {
   "cell_type": "code",
   "execution_count": 67,
   "metadata": {},
   "outputs": [],
   "source": [
    "def oncePerMin(func):\n",
    "    last_invoked = 0\n",
    "    def wrapper(*args,**kwargs):\n",
    "        nonlocal last_invoked\n",
    "        \n",
    "        elapsed_time = time.time() - last_invoked\n",
    "        if elapsed_time<60:\n",
    "            raise Exception(\"Only {} has elapsed , wait for atleast 1 min\".format(elapsed_time))\n",
    "        last_invoked = time.time()\n",
    "        \n",
    "        return func(*args,**kwargs)\n",
    "        \n",
    "    return wrapper\n",
    "\n",
    "\n",
    "\n",
    "\"\"\" Lets generalize it to once per m \"\"\"\n",
    "def oncePerM(m):\n",
    "    \n",
    "    def middle(func):\n",
    "        last_invoked = 0\n",
    "        def wrapper(*args,**kwargs):\n",
    "            nonlocal last_invoked\n",
    "\n",
    "            elapsed_time = time.time() - last_invoked\n",
    "            if elapsed_time<m:\n",
    "                raise Exception(\"Only {} has elapsed , wait for atleast {} sec\".format(elapsed_time,m))\n",
    "            last_invoked = time.time()\n",
    "\n",
    "            return func(*args,**kwargs)\n",
    "\n",
    "        return wrapper\n",
    "    return middle\n",
    "\n",
    "\n",
    "\n",
    "@oncePerMin\n",
    "def genIterate(n):\n",
    "    [i*i for i in range(n)]\n",
    "\n",
    "\n",
    "@oncePerM(5)\n",
    "def genIteratePerM(n):\n",
    "    [i*i for i in range(n)]\n"
   ]
  },
  {
   "cell_type": "code",
   "execution_count": 73,
   "metadata": {},
   "outputs": [],
   "source": [
    "genIteratePerM(10)"
   ]
  },
  {
   "cell_type": "markdown",
   "metadata": {},
   "source": [
    "#  \n",
    "#  \n",
    "\n",
    "###  Example 3\n",
    "#### Memoization \n",
    "##### Cache results of function call so we dont have to call them again and again"
   ]
  },
  {
   "cell_type": "code",
   "execution_count": 99,
   "metadata": {},
   "outputs": [
    {
     "name": "stdout",
     "output_type": "stream",
     "text": [
      "Caching NEW values for function : add with arguments (2, 3)\n",
      "Using OLD values for function : add with arguments (2, 3)\n"
     ]
    },
    {
     "data": {
      "text/plain": [
       "5"
      ]
     },
     "execution_count": 99,
     "metadata": {},
     "output_type": "execute_result"
    }
   ],
   "source": [
    "def memoize(func):\n",
    "    \n",
    "    cache = {}\n",
    "    \"\"\" We dont use nonlocal here because we are not assigning to the\n",
    "        variable we are just updating the variable using cache['something']\n",
    "        Had we used cache = 'something' then we had to use nonlocal\n",
    "    \"\"\"\n",
    "    def wrapper(*args,**kwargs):\n",
    "        if args not in cache:\n",
    "            print(\"Caching NEW values for function : {} with arguments {}\".format(func.__name__,args))\n",
    "            cache[args] = func(*args,**kwargs)\n",
    "        else:\n",
    "            print(\"Using OLD values for function : {} with arguments {}\".format(func.__name__,args))\n",
    "        return cache[args]\n",
    "    return wrapper\n",
    "\n",
    "@memoize\n",
    "def fib(n):\n",
    "    a,b=0,1\n",
    "    for i in range(n):\n",
    "        a,b=b,a+b\n",
    "    return a\n",
    "\n",
    "@memoize\n",
    "def add(a,b):\n",
    "    return a+b\n",
    "\n",
    "add(2,3)\n",
    "add(2,3)"
   ]
  },
  {
   "cell_type": "markdown",
   "metadata": {},
   "source": [
    "### Example 4. Using picking for caching"
   ]
  },
  {
   "cell_type": "code",
   "execution_count": 95,
   "metadata": {},
   "outputs": [
    {
     "name": "stdout",
     "output_type": "stream",
     "text": [
      "Caching NEW values for function : add with arguments (2, 3, 4, 5)\n"
     ]
    },
    {
     "data": {
      "text/plain": [
       "14"
      ]
     },
     "execution_count": 95,
     "metadata": {},
     "output_type": "execute_result"
    }
   ],
   "source": [
    "\n",
    "\"\"\" But what if *args are non hashable \n",
    "    And what about **kwargs . \n",
    "    \n",
    "    Here comes pickle to the rescue . \n",
    "    bcz -- > It converts a python datastructure to strings and bytestrings.\n",
    "    Strings and bytestrings -- > These are hashable\n",
    "    And just about anything can be pickled\n",
    "    So use a tuple of your bytestrings as your dict keys and you will be fine \n",
    "    for most purposes\n",
    "    If all this doesnt work you can always call the function\n",
    "    \n",
    "\"\"\"\n",
    "import pickle\n",
    "\n",
    "def memoizePickled(func):\n",
    "    \n",
    "    cache = {}\n",
    "    \"\"\" We dont use nonlocal here because we are not assigning to the\n",
    "        variable we are just updating the variable using cache['something']\n",
    "        Had we used cache = 'something' then we had to use nonlocal\n",
    "    \"\"\"\n",
    "    def wrapper(*args,**kwargs):\n",
    "        t = (pickle.dumps(args),pickle.dumps(kwargs))\n",
    "        if t not in cache:\n",
    "            print(\"Caching NEW values for function : {} with arguments {}\".format(func.__name__,args))\n",
    "            cache[t] = func(*args,**kwargs)\n",
    "        else:\n",
    "            print(\"Using OLD values for function : {} with arguments {}\".format(func.__name__,args))\n",
    "        return cache[t]\n",
    "    return wrapper\n",
    "\n",
    "\n",
    "@memoize\n",
    "def add(*args):\n",
    "    sum = 0\n",
    "    for i in args:\n",
    "        sum+=i\n",
    "        \n",
    "    return sum\n",
    "\n"
   ]
  },
  {
   "cell_type": "code",
   "execution_count": 98,
   "metadata": {},
   "outputs": [
    {
     "name": "stdout",
     "output_type": "stream",
     "text": [
      "Using OLD values for function : add with arguments (2, 3, 4, 5)\n",
      "Using OLD values for function : add with arguments (2, 3, 5, 4)\n"
     ]
    },
    {
     "data": {
      "text/plain": [
       "14"
      ]
     },
     "execution_count": 98,
     "metadata": {},
     "output_type": "execute_result"
    }
   ],
   "source": [
    "add(2,3,4,5)\n",
    "add(2,3,5,4)"
   ]
  },
  {
   "cell_type": "markdown",
   "metadata": {},
   "source": [
    "#  \n",
    "#  \n",
    "### Example 5. Attributes \n",
    "\n",
    "##### Give many objects the same attributes, but without inheritance . \n",
    "##### For Example methods are attributes of class. What if we want to have same attributes for all the classes"
   ]
  },
  {
   "cell_type": "code",
   "execution_count": 122,
   "metadata": {},
   "outputs": [
    {
     "name": "stdout",
     "output_type": "stream",
     "text": [
      "I am a repr of Foo with vars {'x': 2, 'y': 3, '_birthday': 1611478602.3323314}\n",
      "I am a repr of Foobar with vars {'x': 5, 'y': 7, '_birthday': '2021-01-24 14:26:42'}\n"
     ]
    }
   ],
   "source": [
    "\"\"\" Now inheritance is cool when we have similar classes but if we want to have\n",
    "    the same atributes in other distinct classes then we can use this decorator\n",
    "    \n",
    "    >> We want to have a bunch of attributes consistently set across all the classes\n",
    "    >> These classes are not related so we wont use inheritance\n",
    "    >> And we dont want multiple inheritance ( it is terrible)\n",
    "\"\"\"\n",
    "## We create a fancy __repr__ of a class now. \n",
    "## So we need to create a repr function of a class now\n",
    "## but using a decorator instead of dunder __repr__\n",
    "from datetime import datetime\n",
    "\n",
    "def fancy_repr(self):\n",
    "    return \"I am a repr of {} with vars {}\".format(type(self).__name__,vars(self))\n",
    "\n",
    "\n",
    "def better_repr(cls):\n",
    "    cls.__repr__ = fancy_repr\n",
    "    def wrapper(*args,**kwargs):\n",
    "        obj = cls(*args,**kwargs)\n",
    "        return obj\n",
    "    \n",
    "    return wrapper\n",
    "\n",
    "\n",
    "def better_repr_simp(cls):\n",
    "    cls.__repr__ = fancy_repr\n",
    "    return cls\n",
    "\n",
    "\n",
    "def object_bday(cls):\n",
    "    def wrapper(*args,**kwargs):\n",
    "        obj = cls(*args,**kwargs)\n",
    "        obj._birthday = time.time()\n",
    "        \n",
    "        return obj\n",
    "    return wrapper\n",
    "\n",
    "\n",
    "def repr_with_birthday(cls):\n",
    "    cls.__repr__ = fancy_repr\n",
    "    \n",
    "    def wrapper(*args,**kwargs):\n",
    "        obj = cls(*args,**kwargs)\n",
    "        obj._birthday = datetime.strftime(datetime.today(),\"%Y-%m-%d %H:%M:%S\")\n",
    "        \n",
    "        return obj\n",
    "    return wrapper\n",
    "    \n",
    "        \n",
    "@object_bday\n",
    "@better_repr_simp\n",
    "class Foo:\n",
    "    def __init__(self,x,y):\n",
    "        self.x =x\n",
    "        self.y =y\n",
    "        \n",
    "@repr_with_birthday    \n",
    "class Foobar:\n",
    "    def __init__(self,x,y):\n",
    "        self.x =x\n",
    "        self.y =y    \n",
    "        \n",
    "        \n",
    "f = Foo(2,3)\n",
    "fb = Foobar(5,7)\n",
    "\n",
    "print(f)\n",
    "print(fb)\n",
    "    \n",
    "\n",
    "\n"
   ]
  },
  {
   "cell_type": "markdown",
   "metadata": {},
   "source": [
    "#### Conclusions :\n",
    "\n",
    "##### Decorators let you DRY ( Dont Repeat Yourself)  up your callables : Dont Repeat Yourself\n",
    "##### Underatanding the number of callables are involved makes it easier to see what problems can be solved and how\n",
    "##### Decorators make it dramaticaly easy to do many things\n",
    "##### Many of it depends on the fact that in python , callables ( functions and classes) are objects like any other and can be passed and returned easily"
   ]
  },
  {
   "cell_type": "code",
   "execution_count": null,
   "metadata": {},
   "outputs": [],
   "source": []
  }
 ],
 "metadata": {
  "kernelspec": {
   "display_name": "Python 3",
   "language": "python",
   "name": "python3"
  },
  "language_info": {
   "codemirror_mode": {
    "name": "ipython",
    "version": 3
   },
   "file_extension": ".py",
   "mimetype": "text/x-python",
   "name": "python",
   "nbconvert_exporter": "python",
   "pygments_lexer": "ipython3",
   "version": "3.7.4"
  }
 },
 "nbformat": 4,
 "nbformat_minor": 2
}
