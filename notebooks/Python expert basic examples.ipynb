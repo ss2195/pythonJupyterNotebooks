{
 "cells": [
  {
   "cell_type": "markdown",
   "metadata": {},
   "source": [
    "## Expert python by Tech with Tim"
   ]
  },
  {
   "cell_type": "markdown",
   "metadata": {},
   "source": [
    "  ##### Dunder Methods  or Data Model Methods "
   ]
  },
  {
   "cell_type": "code",
   "execution_count": null,
   "metadata": {},
   "outputs": [],
   "source": [
    "class Person:\n",
    "    def __init__(self,person):\n",
    "        self.person = person\n",
    "    def __repr__(self):\n",
    "        return \"Person({})\".format(self.person)\n",
    "    def __call__(self,y):\n",
    "        return self.person*y\n",
    "    def __len__(self):\n",
    "        return len(self.person)\n",
    "        \n",
    "p  = Person(\"Tim\")\n",
    "print(p)\n",
    "print(p(4))\n",
    "print(len(p))"
   ]
  },
  {
   "cell_type": "code",
   "execution_count": null,
   "metadata": {},
   "outputs": [],
   "source": [
    "### Another example using Queue class since it doesnt have __repr__ methos\n",
    "import inspect\n",
    "\n",
    "from queue import Queue as q\n",
    "\n",
    "class Queue(q):\n",
    "    def __repr__(self):\n",
    "        return \"Queue({})\".format(self._qsize())\n",
    "    \n",
    "    def __add__(self,args):\n",
    "        if type(args)==list:\n",
    "            for arg in args:\n",
    "                self.put(arg)\n",
    "        else:\n",
    "            self.put(args)\n",
    "    \n",
    "    def __call__(self):\n",
    "        return self.get()\n",
    "\n",
    "\n",
    "        \n",
    "qt = Queue()\n",
    "qt+2\n",
    "qt+4\n",
    "qt+[3,4]\n",
    "while qt.qsize() > 0 :\n",
    "    print(qt.get())"
   ]
  },
  {
   "cell_type": "markdown",
   "metadata": {},
   "source": [
    "### Metaclasses and how classes actually works ( They are complicated stuff tho)"
   ]
  },
  {
   "cell_type": "code",
   "execution_count": null,
   "metadata": {},
   "outputs": [],
   "source": [
    "## metaclasses create rules for a new class\n",
    "## Everything in python is an object \n",
    "\"\"\"Every new class in python is created using the type class\n",
    "    We can literally work with type class to create new classes and\n",
    "    add attributes and add base classes\n",
    "\"\"\"\n",
    "\n",
    "\n",
    "\n",
    "class Test:\n",
    "    pass\n",
    "print(type(Test()))\n",
    "\n",
    "class Foo:\n",
    "    def __init__(self,atr):\n",
    "        self.atr = atr\n",
    "\n",
    "        \n",
    "        \n",
    "def add_attr(self):\n",
    "    self.z = 9\n",
    "        \n",
    "Test1 = type(\"Test\",(Foo,),{\"x\":5, \"add_attr\":add_attr})\n",
    "t = Test1(\"hello\")\n",
    "t.wy = \"hi\"\n",
    "print(t.x)\n",
    "print(t.wy)\n",
    "print(t.atr)\n",
    "t.add_attr()\n",
    "print(t.z)\n",
    "\n",
    "\n",
    "## I can argue that Test 1 and Test are exactly the same class and can do exactly the same things\n",
    "## SO we can actually create a new class using type class by passin Name baseclass an"
   ]
  },
  {
   "cell_type": "code",
   "execution_count": null,
   "metadata": {},
   "outputs": [],
   "source": [
    "########  Gettin into metaclasses\n",
    "### Usually metaclassees inherit from type but necessatily\n",
    "## __new__() dunder method is called before init methos and can be used to change how constructors are created\n",
    "## We use the same args as the type class class_name, bases , attrs\n",
    "\n",
    "## Metaclasses can be very powerful bcz we can hook onto the \n",
    "## construction of a class and change how a class is created\n",
    "\n",
    "## Metaclasses can be magic . We just showed an example where we changes all the attributes to \n",
    "##  Upper Case \n",
    "\n",
    "## We use it while writing library code to enforece the inheritance from user class\n",
    "\n",
    "\n",
    "class Meta(type):\n",
    "    def __new__(self, class_name, bases, attrs): \n",
    "        print(attrs)\n",
    "        \n",
    "        a= {}\n",
    "        for items in attrs:\n",
    "            if items.startswith(\"__\"):\n",
    "                a[items] = attrs[items]\n",
    "            else:\n",
    "                a[items.upper()] = attrs[items]\n",
    "        return type(class_name,bases,a)\n",
    "    \n",
    "    \n",
    "        \n",
    "class Dog(metaclass = Meta):\n",
    "    \n",
    "    x=5\n",
    "    y=8\n",
    "    \n",
    "    def hello(self):\n",
    "        print(\"Hi!!\")\n",
    "        \n",
    "d  = Dog()\n",
    "dir(Dog)\n",
    "\n",
    "print(d.X)"
   ]
  },
  {
   "cell_type": "markdown",
   "metadata": {},
   "source": [
    "### Decorators  are wrappers around the functions\n",
    "##### You can modify the funciton without touching the funciton code"
   ]
  },
  {
   "cell_type": "code",
   "execution_count": null,
   "metadata": {},
   "outputs": [],
   "source": [
    "##  We look into a case where we have two different functions func2 and func3\n",
    "## func2 takes one argument and func3 takes 0 argument\n",
    "## We need to apply the same decorator to both the function.  \n",
    "## So we use *args and **kwargs in our decorator wrapper\n",
    "\n",
    "def func(f):\n",
    "    def wrapper(*args, **kwargs):\n",
    "        print(\"Before func\")\n",
    "        rv = f(*args, **kwargs)\n",
    "        print(\"After func\")\n",
    "        return rv\n",
    "    return wrapper\n",
    "\n",
    "@func\n",
    "def func2(x,y):\n",
    "    print(\"Func2 is {}\".format(x))\n",
    "    return y\n",
    "    \n",
    "\n",
    "\n",
    "@func\n",
    "def func3():\n",
    "    print(\"Heelo FUnc3\")\n",
    "    \n",
    "func3()\n",
    "print(\"=\"*30)\n",
    "y = func2(34,23)\n",
    "print(y)"
   ]
  },
  {
   "cell_type": "code",
   "execution_count": null,
   "metadata": {},
   "outputs": [],
   "source": [
    "### lets make a time wrapper that times the run time of a funciton\n",
    "\n",
    "import time \n",
    "\n",
    "def timer(func):\n",
    "    def wrapper(*args,**kwargs):\n",
    "        start = time.time()\n",
    "        rv = func(*args,**kwargs)\n",
    "        end = time.time()\n",
    "        print(\"Timing function ======  {} ===== Time taken >>>>>> {}\".format(func.__name__,end-start))\n",
    "        return rv\n",
    "    return wrapper\n",
    "\n",
    "@timer\n",
    "def test(num):\n",
    "    for _ in range(num):\n",
    "        continue\n",
    "\n",
    "@timer\n",
    "def test2():\n",
    "    time.sleep(2)\n",
    "    \n",
    "\n",
    "test(100000)\n",
    "\n",
    "test2()"
   ]
  },
  {
   "cell_type": "markdown",
   "metadata": {},
   "source": [
    " #  "
   ]
  },
  {
   "cell_type": "markdown",
   "metadata": {},
   "source": [
    "#  "
   ]
  },
  {
   "cell_type": "markdown",
   "metadata": {},
   "source": [
    "#### Generators in python\n",
    "\n",
    "  ##### Problem that generators solve:\n",
    "  ##### We have a finite memory(ram) in computer , we cant load everything in our program into memory\n",
    "  ##### Generators are useful in this case"
   ]
  },
  {
   "cell_type": "code",
   "execution_count": 6,
   "metadata": {},
   "outputs": [
    {
     "name": "stdout",
     "output_type": "stream",
     "text": [
      "8697464\n",
      "120\n"
     ]
    }
   ],
   "source": [
    "###Example  x = [i**2 for i in range(1000000000000)]  \n",
    "### Dont run abovething bcz that will eat up the entire memory of your computer\n",
    "### And you will have to wait for the entire program to complete\n",
    "## We create our own generators\n",
    "\n",
    "class Gen:\n",
    "    def __init__(self,n):\n",
    "        self.n = n\n",
    "        self.last = 0\n",
    "        \n",
    "    def __next__(self):\n",
    "        return self.next()\n",
    "    \n",
    "    def next(self):\n",
    "        if self.last==self.n:\n",
    "            raise StopIteration()\n",
    "        rv = self.last**2\n",
    "        self.last+=1\n",
    "        return rv\n",
    "    \n",
    "g = Gen(10)\n",
    "        \n",
    "while True:\n",
    "    try:\n",
    "        next(g)\n",
    "    except StopIteration:\n",
    "        break\n",
    "    \n",
    "\n",
    "import sys\n",
    "\n",
    "    \n",
    "\"\"\"PYTHON HAS SIMPLIFIED THE GENERATOR SYNTAX FOR US\n",
    "    We can use yield for it\n",
    "\"\"\"\n",
    "def gen(n):\n",
    "    \"\"\"When This function is called \n",
    "       The for loop runs and at the yield command\n",
    "       it pauses the execution\n",
    "    \"\"\"\n",
    "    for i in range(n):\n",
    "        yield i**2\n",
    "        \n",
    "g1 = gen(1000000)\n",
    "\n",
    "g2 = (i**2 for i in range(1000000)) \n",
    "\n",
    "list1 = [i**2 for i in range(1000000)]\n",
    "\"\"\"Now when we run this wes will never run into a memory \n",
    "   problem as the entire data is never loaded into memory.\n",
    "\"\"\"\n",
    "print(sys.getsizeof(list1))\n",
    "\n",
    "print(sys.getsizeof(g1))\n",
    "\n",
    "\n",
    "\n"
   ]
  },
  {
   "cell_type": "markdown",
   "metadata": {},
   "source": [
    "#  "
   ]
  },
  {
   "cell_type": "markdown",
   "metadata": {},
   "source": [
    "### Context Managers\n",
    "\n",
    "  ##### To create a context manager you need to have two special dunder methods \\_\\_enter\\_\\_ and \\_\\_exit\\_\\_"
   ]
  },
  {
   "cell_type": "code",
   "execution_count": 4,
   "metadata": {},
   "outputs": [
    {
     "name": "stdout",
     "output_type": "stream",
     "text": [
      "Enter\n",
      "Middle\n",
      "Exit\n"
     ]
    },
    {
     "ename": "Exception",
     "evalue": "",
     "output_type": "error",
     "traceback": [
      "\u001b[1;31m---------------------------------------------------------------------------\u001b[0m",
      "\u001b[1;31mException\u001b[0m                                 Traceback (most recent call last)",
      "\u001b[1;32m<ipython-input-4-3f234219bd87>\u001b[0m in \u001b[0;36m<module>\u001b[1;34m\u001b[0m\n\u001b[0;32m     59\u001b[0m     \u001b[0mprint\u001b[0m\u001b[1;33m(\u001b[0m\u001b[1;34m\"Middle\"\u001b[0m\u001b[1;33m)\u001b[0m\u001b[1;33m\u001b[0m\u001b[1;33m\u001b[0m\u001b[0m\n\u001b[0;32m     60\u001b[0m     \u001b[0mf\u001b[0m\u001b[1;33m.\u001b[0m\u001b[0mwrite\u001b[0m\u001b[1;33m(\u001b[0m\u001b[1;34m\"Hello there somebody there\"\u001b[0m\u001b[1;33m)\u001b[0m\u001b[1;33m\u001b[0m\u001b[1;33m\u001b[0m\u001b[0m\n\u001b[1;32m---> 61\u001b[1;33m     \u001b[1;32mraise\u001b[0m \u001b[0mException\u001b[0m\u001b[1;33m(\u001b[0m\u001b[1;33m)\u001b[0m\u001b[1;33m\u001b[0m\u001b[1;33m\u001b[0m\u001b[0m\n\u001b[0m\u001b[0;32m     62\u001b[0m \u001b[1;33m\u001b[0m\u001b[0m\n",
      "\u001b[1;31mException\u001b[0m: "
     ]
    }
   ],
   "source": [
    "### We use it all the time but dont notice it\n",
    "## Example\n",
    "\n",
    "\"\"\" So we open a file.txt file and do some stuff and close it\n",
    "    But if we encounter a problem during the writing then\n",
    "    we will not reach the closing statement . And the file will \n",
    "    still contibue to reside in memory\n",
    "\"\"\"\n",
    "file  = open(\"file.txt\",\"w\")\n",
    "file.write(\"hello\")\n",
    "file.close()\n",
    "\n",
    "\n",
    "\"\"\"So context managers help to solve this problem of opening one thing and closing it\n",
    "   no matter what happens in between this two step\n",
    "\"\"\"\n",
    "\n",
    "### One possible solution is to use try and finally\n",
    "file  = open(\"file.txt\",\"w\")\n",
    "try:\n",
    "    file.write(\"hello\")\n",
    "finally:\n",
    "    file.close()\n",
    "    \n",
    "\n",
    "\"\"\" Using with we create a context manager . This is the most usual way.\n",
    "    open('file.txt','w') this expressions tell the context manager what\n",
    "    to do \n",
    "    \n",
    "\"\"\"\n",
    "with open('file.txt','w') as f:\n",
    "    f.write(\"hello word\")\n",
    "\n",
    "\n",
    "\"\"\" Lets write a context manager as a class\n",
    "\"\"\"\n",
    "\n",
    "class File:\n",
    "    \n",
    "    def __init__(self,file,method):\n",
    "        self.file = open(file,method)\n",
    "        \n",
    "    def __enter__(self):\n",
    "        \"\"\" This enter method is the first thibg that happens\n",
    "            Even before the init\n",
    "        \"\"\"\n",
    "        print(\"Enter\")\n",
    "        return self.file\n",
    "    \n",
    "    def __exit__(self, type, value, traceback):\n",
    "        \"\"\" If something happens in between then \n",
    "            this exception is handled here\n",
    "        \"\"\"\n",
    "        print(\"Exit\")\n",
    "        self.file.close()\n",
    "        \n",
    "\n",
    "with File(\"file.txt\",\"w\") as f:\n",
    "    print(\"Middle\")\n",
    "    f.write(\"Hello there somebody there\")\n",
    "    raise Exception()\n",
    "        "
   ]
  },
  {
   "cell_type": "code",
   "execution_count": null,
   "metadata": {},
   "outputs": [],
   "source": []
  }
 ],
 "metadata": {
  "kernelspec": {
   "display_name": "Python 3",
   "language": "python",
   "name": "python3"
  },
  "language_info": {
   "codemirror_mode": {
    "name": "ipython",
    "version": 3
   },
   "file_extension": ".py",
   "mimetype": "text/x-python",
   "name": "python",
   "nbconvert_exporter": "python",
   "pygments_lexer": "ipython3",
   "version": "3.7.4"
  }
 },
 "nbformat": 4,
 "nbformat_minor": 2
}
